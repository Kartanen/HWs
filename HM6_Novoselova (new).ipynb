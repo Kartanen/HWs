{
 "cells": [
  {
   "cell_type": "markdown",
   "metadata": {},
   "source": [
    "- Создайте класс Point(x, y) x, y - координаты точки на плоскости.\n",
    "- Реализуйте два метода a.distanceTo(b) - евкливодов расстояние между $a$ и $b$\n",
    "- Переопределите __str__ так чтобы при печати экземпляра выводилось (x, y) - то есть координаты точки"
   ]
  },
  {
   "cell_type": "code",
   "execution_count": 28,
   "metadata": {},
   "outputs": [],
   "source": [
    "class Point:\n",
    "    def __init__(self, x, y):\n",
    "        self.x = x\n",
    "        self.y = y\n",
    "    \n",
    "    def __str__(self):\n",
    "        return \"(\" + str(self.x) + \",\" + str(self.y) +  \")\"\n",
    "\n",
    "    def distanceTo (self, b): # метод должен быть часть класса Point и вызываться a.distanceTo(b) a,b - некоторые экземпляры класса \n",
    "                         # Point \n",
    "        return ((self.x - b.x)**2 + (self.y - b.y)**2)**(1/2)"
   ]
  },
  {
   "cell_type": "code",
   "execution_count": 29,
   "metadata": {},
   "outputs": [
    {
     "name": "stdout",
     "output_type": "stream",
     "text": [
      "(0,0)\n",
      "(10,10)\n",
      "14.142135623730951\n"
     ]
    }
   ],
   "source": [
    "dot1 = Point (0,0)\n",
    "dot2 = Point (10,10)\n",
    "print (dot1)\n",
    "print (dot2)\n",
    "print (dot1.distanceTo(dot2))"
   ]
  },
  {
   "cell_type": "markdown",
   "metadata": {},
   "source": [
    "- После того как Вы создадите класс запустите следующий код"
   ]
  },
  {
   "cell_type": "code",
   "execution_count": 41,
   "metadata": {},
   "outputs": [],
   "source": [
    "import random\n",
    "random.seed(42)\n",
    "points = list()\n",
    "for i in range(1000):\n",
    "    x = random.randint(1, 100)\n",
    "    y = random.randint(1, 100)\n",
    "    points.append(Point(x, y))"
   ]
  },
  {
   "cell_type": "markdown",
   "metadata": {},
   "source": [
    "- Напишите метод, который определит у какой из заданых точек больше всего соседей в радиусе 5.\n",
    "- Если таких точек несколько, то тогда выведите точку с наименьше суммой координат, если таких точек несколько, то выведите точку с наименьше абсциссой."
   ]
  },
  {
   "cell_type": "code",
   "execution_count": 88,
   "metadata": {},
   "outputs": [],
   "source": [
    "# 1st part\n",
    "def neighbourhood(points):\n",
    "    count = []\n",
    "    count_elem = 0\n",
    "    \n",
    "    for i in range (len(points)):\n",
    "        for element in points:\n",
    "            if points[i].distanceTo(element) <= 5:\n",
    "                count_elem += 1\n",
    "        count.append (count_elem)\n",
    "        count_elem = 0\n",
    "    ###\n",
    "    max_index = 0\n",
    "    max_count = count[0]\n",
    "    \n",
    "    for i in range (len(points)):\n",
    "        max_k = 0\n",
    "        if count[i] > max_count:\n",
    "            max_count = count[i]\n",
    "            max_index = i\n",
    "            max_k += 1\n",
    "            \n",
    "    if max_k == 1:\n",
    "        print (points[max_index])\n",
    "        \n",
    "    else:\n",
    "        max_array = []\n",
    "        \n",
    "        for j in range (len(points)):\n",
    "            if count[i] == max_count:\n",
    "                max_array.append(points[j])\n",
    "                \n",
    "        temp_array = []\n",
    "        \n",
    "        for v in range (len(max_array)):\n",
    "            temp_array.append(max_array[v].x + max_array[v].y)\n",
    "            min_temp_array = temp_array[0]\n",
    "            min_temp_index = 0\n",
    "            \n",
    "        for n in range (len(max_array)):\n",
    "            min_k_temp = 0\n",
    "            if temp_array[n] < min_temp_array:\n",
    "                min_temp_array = temp_array[n]\n",
    "                min_temp_index = n\n",
    "                min_k_temp +=1\n",
    "            if min_k_temp == 1:\n",
    "                print (max_array[min_temp_index])\n",
    "                \n",
    "        else:\n",
    "            min_x = max_array[0].x\n",
    "            min_x_index = 0\n",
    "            for p in range (len(max_array)):\n",
    "                if max_array[p].x < min_x:\n",
    "                    min_x = max_array[p].x\n",
    "                    min_x_index = p\n",
    "            print (max_array[min_x_index])"
   ]
  },
  {
   "cell_type": "code",
   "execution_count": 89,
   "metadata": {},
   "outputs": [
    {
     "ename": "IndexError",
     "evalue": "list index out of range",
     "output_type": "error",
     "traceback": [
      "\u001b[1;31m---------------------------------------------------------------------------\u001b[0m",
      "\u001b[1;31mIndexError\u001b[0m                                Traceback (most recent call last)",
      "\u001b[1;32m<ipython-input-89-65213015a70c>\u001b[0m in \u001b[0;36m<module>\u001b[1;34m\u001b[0m\n\u001b[1;32m----> 1\u001b[1;33m \u001b[0mneighbourhood\u001b[0m \u001b[1;33m(\u001b[0m\u001b[0mpoints\u001b[0m\u001b[1;33m)\u001b[0m \u001b[1;31m# в этой и следующей задаче нужно искать не среди точек dot1, dot2, а среди точек в массиве points\u001b[0m\u001b[1;33m\u001b[0m\u001b[1;33m\u001b[0m\u001b[0m\n\u001b[0m",
      "\u001b[1;32m<ipython-input-88-f3240b529b7c>\u001b[0m in \u001b[0;36mneighbourhood\u001b[1;34m(points)\u001b[0m\n\u001b[0;32m     49\u001b[0m         \u001b[1;32melse\u001b[0m\u001b[1;33m:\u001b[0m\u001b[1;33m\u001b[0m\u001b[1;33m\u001b[0m\u001b[0m\n\u001b[0;32m     50\u001b[0m             \u001b[0mmin_x\u001b[0m \u001b[1;33m=\u001b[0m \u001b[1;33m[\u001b[0m\u001b[1;33m]\u001b[0m\u001b[1;33m\u001b[0m\u001b[1;33m\u001b[0m\u001b[0m\n\u001b[1;32m---> 51\u001b[1;33m             \u001b[0mmin_x\u001b[0m\u001b[1;33m.\u001b[0m\u001b[0mappend\u001b[0m\u001b[1;33m(\u001b[0m\u001b[0mmax_array\u001b[0m\u001b[1;33m[\u001b[0m\u001b[1;36m0\u001b[0m\u001b[1;33m]\u001b[0m\u001b[1;33m.\u001b[0m\u001b[0mx\u001b[0m\u001b[1;33m)\u001b[0m\u001b[1;33m\u001b[0m\u001b[1;33m\u001b[0m\u001b[0m\n\u001b[0m\u001b[0;32m     52\u001b[0m             \u001b[0mmin_x_index\u001b[0m \u001b[1;33m=\u001b[0m \u001b[1;36m0\u001b[0m\u001b[1;33m\u001b[0m\u001b[1;33m\u001b[0m\u001b[0m\n\u001b[0;32m     53\u001b[0m             \u001b[1;32mfor\u001b[0m \u001b[0mp\u001b[0m \u001b[1;32min\u001b[0m \u001b[0mrange\u001b[0m \u001b[1;33m(\u001b[0m\u001b[0mlen\u001b[0m\u001b[1;33m(\u001b[0m\u001b[0mmax_array\u001b[0m\u001b[1;33m)\u001b[0m\u001b[1;33m)\u001b[0m\u001b[1;33m:\u001b[0m\u001b[1;33m\u001b[0m\u001b[1;33m\u001b[0m\u001b[0m\n",
      "\u001b[1;31mIndexError\u001b[0m: list index out of range"
     ]
    }
   ],
   "source": [
    "neighbourhood (points) # в этой и следующей задаче нужно искать не среди точек dot1, dot2, а среди точек в массиве points"
   ]
  },
  {
   "cell_type": "code",
   "execution_count": null,
   "metadata": {},
   "outputs": [],
   "source": []
  }
 ],
 "metadata": {
  "kernelspec": {
   "display_name": "Python 3",
   "language": "python",
   "name": "python3"
  },
  "language_info": {
   "codemirror_mode": {
    "name": "ipython",
    "version": 3
   },
   "file_extension": ".py",
   "mimetype": "text/x-python",
   "name": "python",
   "nbconvert_exporter": "python",
   "pygments_lexer": "ipython3",
   "version": "3.8.8"
  }
 },
 "nbformat": 4,
 "nbformat_minor": 4
}
