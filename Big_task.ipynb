{
 "cells": [
  {
   "cell_type": "code",
   "execution_count": 1,
   "id": "ef02a149",
   "metadata": {},
   "outputs": [],
   "source": [
    "import pandas as pd\n",
    "import numpy as np"
   ]
  },
  {
   "cell_type": "code",
   "execution_count": 2,
   "id": "121810ed",
   "metadata": {},
   "outputs": [],
   "source": [
    "df = pd.read_csv('insurance.csv')"
   ]
  },
  {
   "cell_type": "code",
   "execution_count": 3,
   "id": "4e43a4b2",
   "metadata": {},
   "outputs": [],
   "source": [
    "#data preparation\n",
    "df.columns = df.columns.str.replace(' ','_').str.lower()\n",
    "df.charges = np.log1p(df.charges)"
   ]
  },
  {
   "cell_type": "code",
   "execution_count": 4,
   "id": "496a1a45",
   "metadata": {},
   "outputs": [
    {
     "data": {
      "text/html": [
       "<div>\n",
       "<style scoped>\n",
       "    .dataframe tbody tr th:only-of-type {\n",
       "        vertical-align: middle;\n",
       "    }\n",
       "\n",
       "    .dataframe tbody tr th {\n",
       "        vertical-align: top;\n",
       "    }\n",
       "\n",
       "    .dataframe thead th {\n",
       "        text-align: right;\n",
       "    }\n",
       "</style>\n",
       "<table border=\"1\" class=\"dataframe\">\n",
       "  <thead>\n",
       "    <tr style=\"text-align: right;\">\n",
       "      <th></th>\n",
       "      <th>age</th>\n",
       "      <th>sex</th>\n",
       "      <th>bmi</th>\n",
       "      <th>children</th>\n",
       "      <th>smoker</th>\n",
       "      <th>region</th>\n",
       "      <th>charges</th>\n",
       "    </tr>\n",
       "  </thead>\n",
       "  <tbody>\n",
       "    <tr>\n",
       "      <th>0</th>\n",
       "      <td>19</td>\n",
       "      <td>female</td>\n",
       "      <td>27.900</td>\n",
       "      <td>0</td>\n",
       "      <td>yes</td>\n",
       "      <td>southwest</td>\n",
       "      <td>9.734236</td>\n",
       "    </tr>\n",
       "    <tr>\n",
       "      <th>1</th>\n",
       "      <td>18</td>\n",
       "      <td>male</td>\n",
       "      <td>33.770</td>\n",
       "      <td>1</td>\n",
       "      <td>no</td>\n",
       "      <td>southeast</td>\n",
       "      <td>7.453882</td>\n",
       "    </tr>\n",
       "    <tr>\n",
       "      <th>2</th>\n",
       "      <td>28</td>\n",
       "      <td>male</td>\n",
       "      <td>33.000</td>\n",
       "      <td>3</td>\n",
       "      <td>no</td>\n",
       "      <td>southeast</td>\n",
       "      <td>8.400763</td>\n",
       "    </tr>\n",
       "    <tr>\n",
       "      <th>3</th>\n",
       "      <td>33</td>\n",
       "      <td>male</td>\n",
       "      <td>22.705</td>\n",
       "      <td>0</td>\n",
       "      <td>no</td>\n",
       "      <td>northwest</td>\n",
       "      <td>9.998137</td>\n",
       "    </tr>\n",
       "    <tr>\n",
       "      <th>4</th>\n",
       "      <td>32</td>\n",
       "      <td>male</td>\n",
       "      <td>28.880</td>\n",
       "      <td>0</td>\n",
       "      <td>no</td>\n",
       "      <td>northwest</td>\n",
       "      <td>8.260455</td>\n",
       "    </tr>\n",
       "  </tbody>\n",
       "</table>\n",
       "</div>"
      ],
      "text/plain": [
       "   age     sex     bmi  children smoker     region   charges\n",
       "0   19  female  27.900         0    yes  southwest  9.734236\n",
       "1   18    male  33.770         1     no  southeast  7.453882\n",
       "2   28    male  33.000         3     no  southeast  8.400763\n",
       "3   33    male  22.705         0     no  northwest  9.998137\n",
       "4   32    male  28.880         0     no  northwest  8.260455"
      ]
     },
     "execution_count": 4,
     "metadata": {},
     "output_type": "execute_result"
    }
   ],
   "source": [
    "df.head()"
   ]
  },
  {
   "cell_type": "code",
   "execution_count": 5,
   "id": "4765d957",
   "metadata": {},
   "outputs": [
    {
     "data": {
      "text/plain": [
       "age           int64\n",
       "sex          object\n",
       "bmi         float64\n",
       "children      int64\n",
       "smoker       object\n",
       "region       object\n",
       "charges     float64\n",
       "dtype: object"
      ]
     },
     "execution_count": 5,
     "metadata": {},
     "output_type": "execute_result"
    }
   ],
   "source": [
    "df.dtypes"
   ]
  },
  {
   "cell_type": "code",
   "execution_count": 6,
   "id": "5e6a2b2b",
   "metadata": {},
   "outputs": [],
   "source": [
    "#split data in categorical/numerical\n",
    "categorical = list(df.dtypes[df.dtypes == object].index)\n",
    "numerical = list(df.dtypes[df.dtypes != object].index)"
   ]
  },
  {
   "cell_type": "code",
   "execution_count": 7,
   "id": "8e6e37c0",
   "metadata": {},
   "outputs": [
    {
     "data": {
      "text/plain": [
       "age         0\n",
       "sex         0\n",
       "bmi         0\n",
       "children    0\n",
       "smoker      0\n",
       "region      0\n",
       "charges     0\n",
       "dtype: int64"
      ]
     },
     "execution_count": 7,
     "metadata": {},
     "output_type": "execute_result"
    }
   ],
   "source": [
    "#check foolish data\n",
    "df.isnull().sum()"
   ]
  },
  {
   "cell_type": "code",
   "execution_count": 8,
   "id": "7ad7ac45",
   "metadata": {},
   "outputs": [],
   "source": [
    "from sklearn.model_selection import train_test_split"
   ]
  },
  {
   "cell_type": "code",
   "execution_count": 9,
   "id": "7f5fbd1d",
   "metadata": {},
   "outputs": [],
   "source": [
    "#split data in 3 sets\n",
    "df_full_train, df_test = train_test_split(df, test_size=0.2, random_state=1)\n",
    "df_train, df_val = train_test_split(df_full_train, test_size=0.25, random_state=1)"
   ]
  },
  {
   "cell_type": "code",
   "execution_count": 10,
   "id": "1604a4c9",
   "metadata": {},
   "outputs": [],
   "source": [
    "#drop set indexes\n",
    "df_train = df_train.reset_index(drop=True)\n",
    "df_val = df_val.reset_index(drop=True)\n",
    "df_test = df_test.reset_index(drop=True)"
   ]
  },
  {
   "cell_type": "code",
   "execution_count": 11,
   "id": "59972a61",
   "metadata": {},
   "outputs": [],
   "source": [
    "y_train = df_train.charges.values\n",
    "y_val = df_val.charges.values\n",
    "y_test = df_test.charges.values"
   ]
  },
  {
   "cell_type": "code",
   "execution_count": 12,
   "id": "bf3d6513",
   "metadata": {},
   "outputs": [],
   "source": [
    "del df_train['charges']\n",
    "del df_val['charges']\n",
    "del df_test['charges']"
   ]
  },
  {
   "cell_type": "code",
   "execution_count": 13,
   "id": "32b13eac",
   "metadata": {},
   "outputs": [],
   "source": [
    "numerical.remove('charges')"
   ]
  },
  {
   "cell_type": "code",
   "execution_count": 14,
   "id": "f69c31ce",
   "metadata": {},
   "outputs": [
    {
     "data": {
      "text/plain": [
       "age         0.523401\n",
       "bmi         0.124984\n",
       "children    0.126453\n",
       "dtype: float64"
      ]
     },
     "execution_count": 14,
     "metadata": {},
     "output_type": "execute_result"
    }
   ],
   "source": [
    "df_full_train[numerical].corrwith(df_full_train.charges)"
   ]
  },
  {
   "cell_type": "code",
   "execution_count": null,
   "id": "c4e9abc4",
   "metadata": {},
   "outputs": [],
   "source": []
  },
  {
   "cell_type": "code",
   "execution_count": null,
   "id": "5ece3a03",
   "metadata": {},
   "outputs": [],
   "source": []
  },
  {
   "cell_type": "code",
   "execution_count": null,
   "id": "5b7f2f4a",
   "metadata": {},
   "outputs": [],
   "source": []
  },
  {
   "cell_type": "code",
   "execution_count": 15,
   "id": "4047a302",
   "metadata": {},
   "outputs": [],
   "source": [
    "from sklearn.feature_extraction import DictVectorizer\n",
    "from sklearn.linear_model import LinearRegression\n",
    "from sklearn.metrics import mean_squared_error as mse\n",
    "from sklearn.linear_model import Ridge\n",
    "from sklearn.tree import DecisionTreeRegressor"
   ]
  },
  {
   "cell_type": "code",
   "execution_count": 16,
   "id": "471e45e6",
   "metadata": {},
   "outputs": [],
   "source": [
    "def test_by_linear_regr(df_train, y_train, df_val, y_val):\n",
    "    dv = DictVectorizer(sparse=False)\n",
    "    X_train = dv.fit_transform(df_train.to_dict(orient='records'))\n",
    "    X_val = dv.transform(df_val.to_dict(orient='records'))\n",
    "    model = LinearRegression()\n",
    "    model.fit(X_train, y_train)\n",
    "    y_pred = model.predict(X_val)\n",
    "    print(mse(y_pred, y_val, squared=False))\n",
    "    print(mse(np.expm1(y_pred), np.expm1(y_val), squared=False))"
   ]
  },
  {
   "cell_type": "code",
   "execution_count": 17,
   "id": "6a548c45",
   "metadata": {},
   "outputs": [
    {
     "name": "stdout",
     "output_type": "stream",
     "text": [
      "0.44624455649573946\n",
      "7565.767254470169\n"
     ]
    }
   ],
   "source": [
    "test_by_linear_regr(df_train[numerical+categorical],y_train,df_val[numerical+categorical],y_val)"
   ]
  },
  {
   "cell_type": "code",
   "execution_count": 18,
   "id": "7d9be4fa",
   "metadata": {},
   "outputs": [],
   "source": [
    "def test_by_logical_regr(df_train, y_train, df_val, y_val):\n",
    "    dv = DictVectorizer(sparse=False)\n",
    "    X_train = dv.fit_transform(df_train.to_dict(orient='records'))\n",
    "    X_val = dv.transform(df_val.to_dict(orient='records'))\n",
    "    model = Ridge()\n",
    "    model.fit(X_train, y_train)\n",
    "    y_pred = model.predict(X_val)\n",
    "    print(mse(y_pred, y_val, squared=False))\n",
    "    print(mse(np.expm1(y_pred), np.expm1(y_val), squared=False))"
   ]
  },
  {
   "cell_type": "code",
   "execution_count": 19,
   "id": "ade496e9",
   "metadata": {},
   "outputs": [
    {
     "name": "stdout",
     "output_type": "stream",
     "text": [
      "0.44606358214378133\n",
      "7532.375827396043\n"
     ]
    }
   ],
   "source": [
    "test_by_logical_regr(df_train[numerical+categorical],y_train,df_val[numerical+categorical],y_val)"
   ]
  },
  {
   "cell_type": "code",
   "execution_count": 20,
   "id": "3d74c7e4",
   "metadata": {},
   "outputs": [],
   "source": [
    "def test_by_decision_tree(df_train, y_train, df_val, y_val):\n",
    "    dv = DictVectorizer(sparse=False)\n",
    "    X_train = dv.fit_transform(df_train.to_dict(orient='records'))\n",
    "    X_val = dv.transform(df_val.to_dict(orient='records'))\n",
    "    model = DecisionTreeRegressor()\n",
    "    model.fit(X_train, y_train)\n",
    "    y_pred = model.predict(X_val)\n",
    "    print(mse(y_pred, y_val, squared=False))\n",
    "    print(mse(np.expm1(y_pred), np.expm1(y_val), squared=False))"
   ]
  },
  {
   "cell_type": "code",
   "execution_count": 21,
   "id": "5b69a7c9",
   "metadata": {},
   "outputs": [
    {
     "name": "stdout",
     "output_type": "stream",
     "text": [
      "0.5167341227727849\n",
      "6382.493490268411\n"
     ]
    }
   ],
   "source": [
    "test_by_decision_tree(df_train[numerical+categorical],y_train,df_val[numerical+categorical],y_val)"
   ]
  },
  {
   "cell_type": "code",
   "execution_count": null,
   "id": "fb569ba9",
   "metadata": {},
   "outputs": [],
   "source": []
  },
  {
   "cell_type": "code",
   "execution_count": null,
   "id": "38e235f8",
   "metadata": {},
   "outputs": [],
   "source": []
  },
  {
   "cell_type": "code",
   "execution_count": null,
   "id": "12bc5090",
   "metadata": {},
   "outputs": [],
   "source": []
  },
  {
   "cell_type": "code",
   "execution_count": 22,
   "id": "8f3df295",
   "metadata": {},
   "outputs": [],
   "source": [
    "#standardization"
   ]
  },
  {
   "cell_type": "code",
   "execution_count": 23,
   "id": "8a8ee1a6",
   "metadata": {},
   "outputs": [],
   "source": [
    "from sklearn.preprocessing import StandardScaler\n",
    "from sklearn.preprocessing import MinMaxScaler"
   ]
  },
  {
   "cell_type": "code",
   "execution_count": 24,
   "id": "e332562e",
   "metadata": {},
   "outputs": [],
   "source": [
    "sc_x = StandardScaler()\n",
    "sc_y = StandardScaler()\n",
    "# sc_x = MinMaxScaler()\n",
    "# sc_y = MinMaxScaler()"
   ]
  },
  {
   "cell_type": "code",
   "execution_count": 25,
   "id": "11d4e000",
   "metadata": {},
   "outputs": [],
   "source": [
    "X = df[numerical].values\n",
    "y = df.charges.values"
   ]
  },
  {
   "cell_type": "code",
   "execution_count": 26,
   "id": "9a5bca31",
   "metadata": {},
   "outputs": [],
   "source": [
    "X_std = sc_x.fit_transform(X)\n",
    "y_std = sc_y.fit_transform(y.reshape(-1, 1)).flatten()"
   ]
  },
  {
   "cell_type": "code",
   "execution_count": 27,
   "id": "3239fd5a",
   "metadata": {},
   "outputs": [],
   "source": [
    "X_train_scaled, X_test_scaled, y_train_scaled, y_test_scaled = train_test_split(X_std, y_std, test_size=0.3, random_state=0)"
   ]
  },
  {
   "cell_type": "code",
   "execution_count": 28,
   "id": "3815f526",
   "metadata": {},
   "outputs": [],
   "source": [
    "#linear\n",
    "model = LinearRegression()\n",
    "model.fit(X_train_scaled, y_train_scaled)\n",
    "y_train_pred = model.predict(X_train_scaled)\n",
    "y_test_pred = model.predict(X_test_scaled)"
   ]
  },
  {
   "cell_type": "code",
   "execution_count": 29,
   "id": "4398999f",
   "metadata": {},
   "outputs": [
    {
     "name": "stdout",
     "output_type": "stream",
     "text": [
      "0.8403505095593226\n",
      "1.5997490983243314\n"
     ]
    }
   ],
   "source": [
    "print(mse(y_test_pred, y_test_scaled, squared=False))\n",
    "print(mse(np.expm1(y_test_pred), np.expm1(y_test_scaled), squared=False))"
   ]
  },
  {
   "cell_type": "code",
   "execution_count": 30,
   "id": "671119f8",
   "metadata": {},
   "outputs": [],
   "source": [
    "#ridge\n",
    "model = Ridge()\n",
    "model.fit(X_train_scaled, y_train_scaled)\n",
    "y_train_pred = model.predict(X_train_scaled)\n",
    "y_test_pred = model.predict(X_test_scaled)"
   ]
  },
  {
   "cell_type": "code",
   "execution_count": 31,
   "id": "d03b9f83",
   "metadata": {},
   "outputs": [
    {
     "name": "stdout",
     "output_type": "stream",
     "text": [
      "0.8403834970709496\n",
      "1.599847408357255\n"
     ]
    }
   ],
   "source": [
    "print(mse(y_test_pred, y_test_scaled, squared=False))\n",
    "print(mse(np.expm1(y_test_pred), np.expm1(y_test_scaled), squared=False))"
   ]
  },
  {
   "cell_type": "code",
   "execution_count": 32,
   "id": "5103ff2e",
   "metadata": {},
   "outputs": [],
   "source": [
    "#decision_tree\n",
    "model = DecisionTreeRegressor()\n",
    "model.fit(X_train_scaled, y_train_scaled)\n",
    "y_train_pred = model.predict(X_train_scaled)\n",
    "y_test_pred = model.predict(X_test_scaled)"
   ]
  },
  {
   "cell_type": "code",
   "execution_count": 33,
   "id": "3e144a32",
   "metadata": {},
   "outputs": [
    {
     "name": "stdout",
     "output_type": "stream",
     "text": [
      "1.2345548601068368\n",
      "2.1672521267987386\n"
     ]
    }
   ],
   "source": [
    "print(mse(y_test_pred, y_test_scaled, squared=False))\n",
    "print(mse(np.expm1(y_test_pred), np.expm1(y_test_scaled), squared=False))"
   ]
  },
  {
   "cell_type": "code",
   "execution_count": null,
   "id": "c85d080b",
   "metadata": {},
   "outputs": [],
   "source": []
  },
  {
   "cell_type": "code",
   "execution_count": null,
   "id": "45123f01",
   "metadata": {},
   "outputs": [],
   "source": []
  }
 ],
 "metadata": {
  "kernelspec": {
   "display_name": "Python 3",
   "language": "python",
   "name": "python3"
  },
  "language_info": {
   "codemirror_mode": {
    "name": "ipython",
    "version": 3
   },
   "file_extension": ".py",
   "mimetype": "text/x-python",
   "name": "python",
   "nbconvert_exporter": "python",
   "pygments_lexer": "ipython3",
   "version": "3.8.8"
  }
 },
 "nbformat": 4,
 "nbformat_minor": 5
}
