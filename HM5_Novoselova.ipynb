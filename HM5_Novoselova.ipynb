{
 "cells": [
  {
   "cell_type": "markdown",
   "id": "cf3ae727",
   "metadata": {},
   "source": [
    "Для того чтобы оценка за данную работу пошла в зачёт нужно отправить ссылку на нее в гит или ноутбук до <b> 17.10.2021 17:00 </b>."
   ]
  },
  {
   "cell_type": "markdown",
   "id": "cfc3e82d",
   "metadata": {},
   "source": [
    "<b>Задание 1.</b> Создайте массив, который состоит из целых чисел от -50 до 50 включительно. Затем удалите последние 25 элеметов массива. Затем разверните массив. Добавьте в конец массива 999. Создайте новый массив в который войдут все четные числа из ранее полученного массива и напечатайте его."
   ]
  },
  {
   "cell_type": "code",
   "execution_count": 9,
   "id": "f65fc6c1",
   "metadata": {},
   "outputs": [
    {
     "name": "stdout",
     "output_type": "stream",
     "text": [
      "[26, 24, 22, 20, 18, 16, 14, 12, 10, 8, 6, 4, 2, 0, -2, -4, -6, -8, -10, -12, -14, -16, -18, -20, -22, -24, -26, -28, -30, -32, -34, -36, -38, -40, -42, -44, -46, -48, -50]\n"
     ]
    }
   ],
   "source": [
    "# решение\n",
    "int_arr = list(range (-50,51))\n",
    "for i in range (24):\n",
    "    int_arr.pop()\n",
    "int_arr.reverse()\n",
    "int_arr.append(999)\n",
    "new_arr = []\n",
    "for element in int_arr:\n",
    "    if element % 2 == 0:\n",
    "        new_arr.append(element)\n",
    "print(new_arr)"
   ]
  },
  {
   "cell_type": "markdown",
   "id": "4907145c",
   "metadata": {},
   "source": [
    "<b>Задание 2.</b> Даны несколько массивов целых чисел (A, B, C, D). Напишите программный код, с помощью которого вы сможете определить длину самой длинной непрерывной последовательности равных значений для каждого из массивов."
   ]
  },
  {
   "cell_type": "code",
   "execution_count": 10,
   "id": "02880b3a",
   "metadata": {},
   "outputs": [],
   "source": [
    "# [1, 1, 1, 2, 3, 4, 5, 6, 3, 4, 1, 1, 1, 1] - самая длинная последовательность длины 4\n",
    "A = [1] * 20 + [1, 1, 3] * 30 + [1] * 21\n",
    "\n",
    "B = list(range(1, 9, 2)) * 3 + list(range(4, 1, 1)) * 2 + [3] * 3\n",
    "B.pop()\n",
    "B.reverse()\n",
    "B.pop()\n",
    "B.reverse()\n",
    "\n",
    "C = [b - 2 for b in B]\n",
    "C.reverse()\n",
    "C =  A + C\n",
    "\n",
    "D = [777] + [666] + [1,2,1,1] * 2 + [1,1,1,1,3]*3 + [1, 4] * 2"
   ]
  },
  {
   "cell_type": "code",
   "execution_count": 25,
   "id": "a28bc2bc",
   "metadata": {},
   "outputs": [
    {
     "name": "stdout",
     "output_type": "stream",
     "text": [
      "the longest subsequence in A:  22\n",
      "the longest subsequence in B:  2\n",
      "the longest subsequence in C:  23\n",
      "the longest subsequence in D:  6\n"
     ]
    }
   ],
   "source": [
    "# решение\n",
    "A_ = []\n",
    "B_ = []\n",
    "C_ = []\n",
    "D_ = []\n",
    "# счет непрерывных последовательностей в А\n",
    "count_a = 0\n",
    "last_a = A[0]\n",
    "for a_element in A:\n",
    "    if a_element == last_a:\n",
    "        count_a += 1\n",
    "    else: \n",
    "        A_.append(count_a)\n",
    "        count_a = 1\n",
    "    last_a = a_element\n",
    "A_.append(count_a) \n",
    "# счет непрерывных последовательностей в В\n",
    "count_b = 0\n",
    "last_b = B[0]\n",
    "for b_element in B:\n",
    "    if b_element == last_b:\n",
    "        count_b += 1\n",
    "    else: \n",
    "        B_.append(count_b)\n",
    "        count_b = 1\n",
    "    last_b = b_element\n",
    "B_.append(count_b) \n",
    "# счет непрерывных последовательностей в С\n",
    "count_c = 0\n",
    "last_c = C[0]\n",
    "for c_element in C:\n",
    "    if c_element == last_c:\n",
    "        count_c += 1\n",
    "    else: \n",
    "        C_.append(count_c)\n",
    "        count_c = 1\n",
    "    last_c = c_element\n",
    "C_.append(count_c) \n",
    "# счет непрерывных последовательностей в D\n",
    "count_d = 0\n",
    "last_d = D[0]\n",
    "for d_element in D:\n",
    "    if d_element == last_d:\n",
    "        count_d += 1\n",
    "    else: \n",
    "        D_.append(count_d)\n",
    "        count_d = 1\n",
    "    last_d = d_element\n",
    "D_.append(count_d) \n",
    "# финальный вывод\n",
    "print ('the longest subsequence in A: ',max(A_))\n",
    "print ('the longest subsequence in B: ',max(B_))\n",
    "print ('the longest subsequence in C: ',max(C_))\n",
    "print ('the longest subsequence in D: ',max(D_))"
   ]
  },
  {
   "cell_type": "markdown",
   "id": "8efc26b7",
   "metadata": {},
   "source": [
    "<b>Задание 3.</b> Напишите функция, которая на вход принимает прямоугольную матрицу и возвращает транспонированную матрицу. Протестируйте функцию на матрицах A, B, C."
   ]
  },
  {
   "cell_type": "code",
   "execution_count": 26,
   "id": "d27847e4",
   "metadata": {},
   "outputs": [],
   "source": [
    "A = [[1, 1], [1, 0]]\n",
    "B = [[2, 3, 4], [4, 5, 6], [7, -1, -2], [-4, -6, 99], [1, 0, 1]]\n",
    "C = [[1, 2, 3, 4, 5]]"
   ]
  },
  {
   "cell_type": "code",
   "execution_count": 31,
   "id": "8cce8472",
   "metadata": {},
   "outputs": [
    {
     "name": "stdout",
     "output_type": "stream",
     "text": [
      "matrix A original:  [[1, 1], [1, 0]] , transposed:  [[1, 1], [1, 0]]\n",
      "matrix B original:  [[2, 3, 4], [4, 5, 6], [7, -1, -2], [-4, -6, 99], [1, 0, 1]] , transposed:  [[2, 4, 7, -4, 1], [3, 5, -1, -6, 0], [4, 6, -2, 99, 1]]\n",
      "matrix C original:  [[1, 2, 3, 4, 5]] , transposed:  [[1], [2], [3], [4], [5]]\n"
     ]
    }
   ],
   "source": [
    "# решение\n",
    "def transpose_matrix (matrix):\n",
    "    transposed = []\n",
    "    n = len (matrix)\n",
    "    m = len (matrix[0])\n",
    "    for j in range (m):\n",
    "        temp = []\n",
    "        for i in range (n):\n",
    "            temp = temp + [matrix [i][j]]\n",
    "        transposed = transposed + [temp]\n",
    "    return transposed\n",
    "# тестирование\n",
    "print ('matrix A original: ', A, ', transposed: ',transpose_matrix(A))\n",
    "print ('matrix B original: ', B, ', transposed: ',transpose_matrix(B))\n",
    "print ('matrix C original: ', C, ', transposed: ',transpose_matrix(C))"
   ]
  },
  {
   "cell_type": "code",
   "execution_count": null,
   "id": "35ef36f7",
   "metadata": {},
   "outputs": [],
   "source": []
  }
 ],
 "metadata": {
  "kernelspec": {
   "display_name": "Python 3",
   "language": "python",
   "name": "python3"
  },
  "language_info": {
   "codemirror_mode": {
    "name": "ipython",
    "version": 3
   },
   "file_extension": ".py",
   "mimetype": "text/x-python",
   "name": "python",
   "nbconvert_exporter": "python",
   "pygments_lexer": "ipython3",
   "version": "3.8.8"
  }
 },
 "nbformat": 4,
 "nbformat_minor": 5
}
